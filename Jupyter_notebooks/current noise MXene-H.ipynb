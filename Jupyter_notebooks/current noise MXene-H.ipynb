{
 "cells": [
  {
   "cell_type": "code",
   "execution_count": 49,
   "metadata": {},
   "outputs": [
    {
     "name": "stdout",
     "output_type": "stream",
     "text": [
      "Once deleted, variables cannot be recovered. Proceed (y/[n])? y\n"
     ]
    }
   ],
   "source": [
    "reset"
   ]
  },
  {
   "cell_type": "code",
   "execution_count": 50,
   "metadata": {
    "scrolled": true
   },
   "outputs": [
    {
     "data": {
      "text/plain": [
       "0          4.660000e-09\n",
       "1          2.650000e-09\n",
       "2          2.650000e-09\n",
       "3          2.390000e-09\n",
       "4          2.940000e-09\n",
       "5          3.560000e-09\n",
       "6          4.100000e-09\n",
       "7          4.370000e-09\n",
       "8          3.780000e-09\n",
       "9          3.550000e-09\n",
       "10         2.680000e-09\n",
       "11         2.620000e-09\n",
       "12         2.680000e-09\n",
       "13         2.330000e-09\n",
       "14         2.110000e-09\n",
       "15         2.190000e-09\n",
       "16         1.960000e-09\n",
       "17         2.600000e-09\n",
       "18         2.880000e-09\n",
       "19         3.200000e-09\n",
       "20         3.360000e-09\n",
       "21         3.030000e-09\n",
       "22         3.590000e-09\n",
       "23         3.320000e-09\n",
       "24         2.740000e-09\n",
       "25         1.900000e-09\n",
       "26         1.660000e-09\n",
       "27         1.570000e-09\n",
       "28         1.600000e-09\n",
       "29         2.140000e-09\n",
       "               ...     \n",
       "1048530    2.360000e-09\n",
       "1048531    2.100000e-09\n",
       "1048532    2.010000e-09\n",
       "1048533    1.970000e-09\n",
       "1048534    1.920000e-09\n",
       "1048535    1.910000e-09\n",
       "1048536    1.870000e-09\n",
       "1048537    1.970000e-09\n",
       "1048538    2.250000e-09\n",
       "1048539    3.390000e-09\n",
       "1048540    2.020000e-09\n",
       "1048541    1.970000e-09\n",
       "1048542    1.930000e-09\n",
       "1048543    1.940000e-09\n",
       "1048544    2.030000e-09\n",
       "1048545    2.260000e-09\n",
       "1048546    2.550000e-09\n",
       "1048547    2.730000e-09\n",
       "1048548    2.740000e-09\n",
       "1048549    2.590000e-09\n",
       "1048550    2.350000e-09\n",
       "1048551    2.190000e-09\n",
       "1048552    2.110000e-09\n",
       "1048553    2.050000e-09\n",
       "1048554    1.970000e-09\n",
       "1048555    1.930000e-09\n",
       "1048556    2.010000e-09\n",
       "1048557    2.180000e-09\n",
       "1048558    2.490000e-09\n",
       "1048559    2.730000e-09\n",
       "Name: current, Length: 1048560, dtype: float64"
      ]
     },
     "execution_count": 50,
     "metadata": {},
     "output_type": "execute_result"
    }
   ],
   "source": [
    "# IMPORT LIBRARIES AND NOISE DATA FILE\n",
    "import csv, glob, os, sys, numpy as np\n",
    "import pandas as pd\n",
    "from scipy.optimize import curve_fit\n",
    "from scipy.signal import savgol_filter\n",
    "import matplotlib.pyplot as plt\n",
    "import timeit\n",
    "from scipy.optimize import curve_fit\n",
    "from scipy import optimize\n",
    "from scipy.interpolate import griddata\n",
    "from matplotlib.colors import ListedColormap\n",
    "import matplotlib.cm as cm\n",
    "from scipy.optimize import curve_fit\n",
    "from scipy.signal import savgol_filter\n",
    "import matplotlib.pyplot as plt\n",
    "from scipy import signal\n",
    "from numpy import NaN, Inf, arange, isscalar, asarray, array\n",
    "import numpy.polynomial.polynomial as poly\n",
    "from theano.tensor.signal.pool import pool_2d\n",
    "from sknn.mlp import Regressor, Layer\n",
    "from sklearn.preprocessing import StandardScaler \n",
    "from scipy import stats; from sklearn import preprocessing\n",
    "from sklearn.grid_search import RandomizedSearchCV\n",
    "#from sklearn.cross_validation import train_test_split\n",
    "from timeit import default_timer as timer\n",
    "from sklearn.model_selection import KFold\n",
    "\n",
    "plt.rcParams['xtick.labelsize'] = 15; plt.rcParams['ytick.labelsize'] = 15 #make size of axis tick labels larger\n",
    "\n",
    "noisefile = '2017-11-03 mxene noise under rh formatted.txt'\n",
    "\n",
    "rawdata = pd.read_table(noisefile, error_bad_lines=False, sep='\\t') #read in file\n",
    "\n",
    "pd.to_numeric(rawdata['current'], errors='coerce')"
   ]
  },
  {
   "cell_type": "code",
   "execution_count": 51,
   "metadata": {},
   "outputs": [
    {
     "name": "stdout",
     "output_type": "stream",
     "text": [
      "10486 data points used\n"
     ]
    },
    {
     "data": {
      "image/png": "[encoded data removed]",
      "text/plain": [
       "<matplotlib.figure.Figure at 0xd088710>"
      ]
     },
     "metadata": {},
     "output_type": "display_data"
    }
   ],
   "source": [
    "time = np.array(rawdata['time'])\n",
    "current = np.array(pd.to_numeric(rawdata['current'], errors='coerce'))\n",
    "\n",
    "#points to skip\n",
    "skip = 100\n",
    "\n",
    "timelong = np.copy(time)\n",
    "currentlong = np.copy(current)\n",
    "\n",
    "\n",
    "#shorten\n",
    "timeshort = np.copy(time)[::skip] \n",
    "currentshort = np.copy(current)[::skip]\n",
    "\n",
    "#change to floats\n",
    "timeshort = timeshort.astype(float)\n",
    "currentshort = currentshort.astype(float)\n",
    "\n",
    "print(format(len(timeshort)) + ' data points used')\n",
    "\n",
    "plt.plot(timeshort, currentshort)\n",
    "plt.ylim(-0.05e-7, 0.05e-7)\n",
    "plt.show()"
   ]
  },
  {
   "cell_type": "code",
   "execution_count": 52,
   "metadata": {},
   "outputs": [
    {
     "data": {
      "text/plain": [
       "numpy.float64"
      ]
     },
     "execution_count": 52,
     "metadata": {},
     "output_type": "execute_result"
    }
   ],
   "source": [
    "type(current[1])"
   ]
  },
  {
   "cell_type": "code",
   "execution_count": 58,
   "metadata": {
    "scrolled": true
   },
   "outputs": [],
   "source": [
    "\n",
    "#compress each variable to length of pressure data by taking statistics of bins\n",
    "\n",
    "binnum = 2000\n",
    "\n",
    "binx = np.arange(len(time))\n",
    "\n",
    "binned_current = stats.binned_statistic(binx, currentlong, statistic='mean', bins=binnum)[0] \n",
    "binned_time = stats.binned_statistic(binx, timelong, statistic='mean', bins=binnum)[0] \n",
    "\n"
   ]
  },
  {
   "cell_type": "code",
   "execution_count": 57,
   "metadata": {},
   "outputs": [
    {
     "data": {
      "image/png": "[encoded data removed]",
      "text/plain": [
       "<matplotlib.figure.Figure at 0xd193b70>"
      ]
     },
     "metadata": {},
     "output_type": "display_data"
    }
   ],
   "source": [
    "pos_binned_current = np.abs(binned_current)+.000000001\n",
    "\n",
    "\n",
    "plt.semilogy(binned_time,pos_binned_current)\n",
    "plt.show()"
   ]
  },
  {
   "cell_type": "code",
   "execution_count": null,
   "metadata": {
    "collapsed": true
   },
   "outputs": [],
   "source": []
  }
 ],
 "metadata": {
  "kernelspec": {
   "display_name": "Python 3",
   "language": "python",
   "name": "python3"
  },
  "language_info": {
   "codemirror_mode": {
    "name": "ipython",
    "version": 3
   },
   "file_extension": ".py",
   "mimetype": "text/x-python",
   "name": "python",
   "nbconvert_exporter": "python",
   "pygments_lexer": "ipython3",
   "version": "3.6.1"
  }
 },
 "nbformat": 4,
 "nbformat_minor": 2
}
