{
 "cells": [
  {
   "cell_type": "code",
   "execution_count": 1,
   "metadata": {
    "collapsed": true
   },
   "outputs": [],
   "source": [
    "import csv, glob, os, sys, numpy as np\n",
    "import pandas as pd\n",
    "\n",
    "#find all the files in the designated folder\n",
    "folder = glob.glob('C:\\\\Users\\\\a6q\\\\Desktop\\\\WinPython-64bit-3.5.2.3\\\\My_scripts\\\\format_impedance_spectra\\\\su8 eis air 2017-06-27/*')\n",
    "for i in range(len(folder)): #loop over each file to import\n",
    "    data = pd.read_csv(folder[i], delimiter='\\t')\n",
    "    \n",
    "    for column in list(data): #loop over each column and remove commas\n",
    "        data[column] = data[column].str.replace(',','.')\n",
    "        data[column] = np.array(data[column]).astype(float)\n",
    "        \n",
    "    #convert log(Freq) into Freq\n",
    "    data['LOGF'] = 10**(data['LOGF'])\n",
    "    #save the new file with no commas\n",
    "    data.to_csv(os.path.basename(folder[i])[:-4] + '_nocommas' + '.csv', index=False)\n"
   ]
  },
  {
   "cell_type": "code",
   "execution_count": 2,
   "metadata": {},
   "outputs": [
    {
     "data": {
      "text/plain": [
       "['C:\\\\Users\\\\a6q\\\\Desktop\\\\WinPython-64bit-3.5.2.3\\\\My_scripts\\\\format_impedance_spectra\\\\su8 eis air 2017-06-27\\\\2017-06-27 16 dark air.txt',\n",
       " 'C:\\\\Users\\\\a6q\\\\Desktop\\\\WinPython-64bit-3.5.2.3\\\\My_scripts\\\\format_impedance_spectra\\\\su8 eis air 2017-06-27\\\\2017-06-27 16 uv air.txt',\n",
       " 'C:\\\\Users\\\\a6q\\\\Desktop\\\\WinPython-64bit-3.5.2.3\\\\My_scripts\\\\format_impedance_spectra\\\\su8 eis air 2017-06-27\\\\2017-06-27 4 dark air.txt',\n",
       " 'C:\\\\Users\\\\a6q\\\\Desktop\\\\WinPython-64bit-3.5.2.3\\\\My_scripts\\\\format_impedance_spectra\\\\su8 eis air 2017-06-27\\\\2017-06-27 4 uv air.txt',\n",
       " 'C:\\\\Users\\\\a6q\\\\Desktop\\\\WinPython-64bit-3.5.2.3\\\\My_scripts\\\\format_impedance_spectra\\\\su8 eis air 2017-06-27\\\\2017-06-27 8 dark air.txt',\n",
       " 'C:\\\\Users\\\\a6q\\\\Desktop\\\\WinPython-64bit-3.5.2.3\\\\My_scripts\\\\format_impedance_spectra\\\\su8 eis air 2017-06-27\\\\2017-06-27 8 uv air.txt']"
      ]
     },
     "execution_count": 2,
     "metadata": {},
     "output_type": "execute_result"
    }
   ],
   "source": []
  },
  {
   "cell_type": "code",
   "execution_count": null,
   "metadata": {
    "collapsed": true
   },
   "outputs": [],
   "source": []
  },
  {
   "cell_type": "code",
   "execution_count": null,
   "metadata": {
    "collapsed": true
   },
   "outputs": [],
   "source": []
  }
 ],
 "metadata": {
  "kernelspec": {
   "display_name": "Python 3",
   "language": "python",
   "name": "python3"
  },
  "language_info": {
   "codemirror_mode": {
    "name": "ipython",
    "version": 3
   },
   "file_extension": ".py",
   "mimetype": "text/x-python",
   "name": "python",
   "nbconvert_exporter": "python",
   "pygments_lexer": "ipython3",
   "version": "3.6.1"
  }
 },
 "nbformat": 4,
 "nbformat_minor": 2
}
