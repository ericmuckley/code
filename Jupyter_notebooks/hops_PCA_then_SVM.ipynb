{
 "cells": [
  {
   "cell_type": "code",
   "execution_count": null,
   "metadata": {
    "collapsed": true
   },
   "outputs": [],
   "source": [
    "reset"
   ]
  },
  {
   "cell_type": "code",
   "execution_count": 34,
   "metadata": {
    "scrolled": true
   },
   "outputs": [
    {
     "name": "stdout",
     "output_type": "stream",
     "text": [
      "      Seconds  Sample    MQ2    MQ4    MQ5    MQ7  Day  Hop  Alpha  Beta  \\\n",
      "0      1168.8       1  0.770  0.550  0.300  0.905    4    1   12.3   3.6   \n",
      "1      1169.6       1  0.770  0.545  0.295  0.905    4    1   12.3   3.6   \n",
      "2      1170.4       1  0.770  0.550  0.295  0.905    4    1   12.3   3.6   \n",
      "3      1171.2       1  0.770  0.550  0.295  0.915    4    1   12.3   3.6   \n",
      "4      1172.0       1  0.770  0.545  0.300  0.910    4    1   12.3   3.6   \n",
      "5      1172.9       1  0.770  0.550  0.300  0.915    4    1   12.3   3.6   \n",
      "6      1173.7       1  0.770  0.555  0.295  0.915    4    1   12.3   3.6   \n",
      "7      1174.5       1  0.770  0.555  0.300  0.915    4    1   12.3   3.6   \n",
      "8      1175.3       1  0.770  0.550  0.295  0.915    4    1   12.3   3.6   \n",
      "9      1176.1       1  0.770  0.555  0.295  0.915    4    1   12.3   3.6   \n",
      "10     1176.9       1  0.770  0.550  0.300  0.915    4    1   12.3   3.6   \n",
      "11     1177.7       1  0.775  0.550  0.295  0.915    4    1   12.3   3.6   \n",
      "12     1178.5       1  0.770  0.560  0.300  0.915    4    1   12.3   3.6   \n",
      "13     1179.3       1  0.775  0.555  0.295  0.915    4    1   12.3   3.6   \n",
      "14     1180.1       1  0.775  0.555  0.295  0.915    4    1   12.3   3.6   \n",
      "15     1180.9       1  0.780  0.560  0.295  0.910    4    1   12.3   3.6   \n",
      "16     1181.7       1  0.780  0.550  0.300  0.915    4    1   12.3   3.6   \n",
      "17     1182.5       1  0.780  0.545  0.300  0.915    4    1   12.3   3.6   \n",
      "18     1183.3       1  0.780  0.555  0.300  0.915    4    1   12.3   3.6   \n",
      "19     1184.1       1  0.780  0.560  0.305  0.915    4    1   12.3   3.6   \n",
      "20     1185.0       1  0.780  0.550  0.300  0.915    4    1   12.3   3.6   \n",
      "21     1185.8       1  0.780  0.555  0.305  0.920    4    1   12.3   3.6   \n",
      "22     1186.6       1  0.780  0.560  0.305  0.915    4    1   12.3   3.6   \n",
      "23     1187.4       1  0.780  0.560  0.295  0.915    4    1   12.3   3.6   \n",
      "24     1188.2       1  0.780  0.560  0.300  0.915    4    1   12.3   3.6   \n",
      "25     1189.0       1  0.780  0.565  0.300  0.925    4    1   12.3   3.6   \n",
      "26     1189.8       1  0.780  0.560  0.305  0.920    4    1   12.3   3.6   \n",
      "27     1190.6       1  0.780  0.560  0.300  0.920    4    1   12.3   3.6   \n",
      "28     1191.4       1  0.780  0.560  0.300  0.925    4    1   12.3   3.6   \n",
      "29     1192.2       1  0.780  0.565  0.300  0.925    4    1   12.3   3.6   \n",
      "...       ...     ...    ...    ...    ...    ...  ...  ...    ...   ...   \n",
      "1320   1235.7       9  0.585  0.345  0.275  0.445    4    9    4.8   4.0   \n",
      "1321   1236.5       9  0.585  0.350  0.270  0.445    4    9    4.8   4.0   \n",
      "1322   1237.3       9  0.585  0.350  0.270  0.450    4    9    4.8   4.0   \n",
      "1323   1238.1       9  0.585  0.345  0.275  0.450    4    9    4.8   4.0   \n",
      "1324   1239.0       9  0.585  0.345  0.265  0.450    4    9    4.8   4.0   \n",
      "1325   1239.8       9  0.585  0.345  0.275  0.450    4    9    4.8   4.0   \n",
      "1326   1240.6       9  0.585  0.345  0.265  0.450    4    9    4.8   4.0   \n",
      "1327   1241.4       9  0.585  0.345  0.275  0.450    4    9    4.8   4.0   \n",
      "1328   1242.2       9  0.585  0.350  0.275  0.450    4    9    4.8   4.0   \n",
      "1329   1243.0       9  0.585  0.345  0.275  0.450    4    9    4.8   4.0   \n",
      "1330   1243.8       9  0.585  0.345  0.275  0.450    4    9    4.8   4.0   \n",
      "1331   1244.6       9  0.585  0.345  0.265  0.455    4    9    4.8   4.0   \n",
      "1332   1245.4       9  0.585  0.340  0.270  0.450    4    9    4.8   4.0   \n",
      "1333   1246.2       9  0.585  0.350  0.275  0.450    4    9    4.8   4.0   \n",
      "1334   1247.0       9  0.585  0.350  0.275  0.450    4    9    4.8   4.0   \n",
      "1335   1247.8       9  0.585  0.345  0.275  0.460    4    9    4.8   4.0   \n",
      "1336   1248.6       9  0.585  0.350  0.270  0.460    4    9    4.8   4.0   \n",
      "1337   1249.5       9  0.585  0.345  0.275  0.455    4    9    4.8   4.0   \n",
      "1338   1250.2       9  0.585  0.350  0.280  0.460    4    9    4.8   4.0   \n",
      "1339   1251.0       9  0.585  0.345  0.275  0.460    4    9    4.8   4.0   \n",
      "1340   1251.9       9  0.585  0.345  0.275  0.455    4    9    4.8   4.0   \n",
      "1341   1252.7       9  0.585  0.345  0.275  0.460    4    9    4.8   4.0   \n",
      "1342   1253.5       9  0.585  0.355  0.275  0.460    4    9    4.8   4.0   \n",
      "1343   1254.3       9  0.590  0.345  0.275  0.460    4    9    4.8   4.0   \n",
      "1344   1255.1       9  0.585  0.350  0.275  0.460    4    9    4.8   4.0   \n",
      "1345   1255.9       9  0.585  0.350  0.275  0.460    4    9    4.8   4.0   \n",
      "1346   1256.7       9  0.590  0.355  0.280  0.460    4    9    4.8   4.0   \n",
      "1347   1257.5       9  0.590  0.355  0.275  0.460    4    9    4.8   4.0   \n",
      "1348   1258.3       9  0.590  0.350  0.275  0.460    4    9    4.8   4.0   \n",
      "1349   1259.1       9  0.595  0.340  0.270  0.455    4    9    4.8   4.0   \n",
      "\n",
      "        Hour  \n",
      "0     96.960  \n",
      "1     96.960  \n",
      "2     96.960  \n",
      "3     96.960  \n",
      "4     96.961  \n",
      "5     96.961  \n",
      "6     96.961  \n",
      "7     96.961  \n",
      "8     96.961  \n",
      "9     96.962  \n",
      "10    96.962  \n",
      "11    96.962  \n",
      "12    96.962  \n",
      "13    96.963  \n",
      "14    96.963  \n",
      "15    96.963  \n",
      "16    96.963  \n",
      "17    96.963  \n",
      "18    96.964  \n",
      "19    96.964  \n",
      "20    96.964  \n",
      "21    96.964  \n",
      "22    96.965  \n",
      "23    96.965  \n",
      "24    96.965  \n",
      "25    96.965  \n",
      "26    96.965  \n",
      "27    96.966  \n",
      "28    96.966  \n",
      "29    96.966  \n",
      "...      ...  \n",
      "1320  96.978  \n",
      "1321  96.978  \n",
      "1322  96.979  \n",
      "1323  96.979  \n",
      "1324  96.979  \n",
      "1325  96.979  \n",
      "1326  96.980  \n",
      "1327  96.980  \n",
      "1328  96.980  \n",
      "1329  96.980  \n",
      "1330  96.980  \n",
      "1331  96.981  \n",
      "1332  96.981  \n",
      "1333  96.981  \n",
      "1334  96.981  \n",
      "1335  96.982  \n",
      "1336  96.982  \n",
      "1337  96.982  \n",
      "1338  96.982  \n",
      "1339  96.982  \n",
      "1340  96.983  \n",
      "1341  96.983  \n",
      "1342  96.983  \n",
      "1343  96.983  \n",
      "1344  96.984  \n",
      "1345  96.984  \n",
      "1346  96.984  \n",
      "1347  96.984  \n",
      "1348  96.985  \n",
      "1349  96.985  \n",
      "\n",
      "[1350 rows x 11 columns]\n"
     ]
    }
   ],
   "source": [
    "import matplotlib.pyplot as plt\n",
    "import numpy as np\n",
    "import pandas as pd\n",
    "from sklearn import datasets\n",
    "from sklearn.decomposition import PCA\n",
    "from sklearn.discriminant_analysis import LinearDiscriminantAnalysis\n",
    "import csv, glob, os, sys\n",
    "from sklearn import svm\n",
    "\n",
    "plt.rcParams['xtick.labelsize'] = 15; plt.rcParams['ytick.labelsize'] = 15 #make size of axis tick labels larger\n",
    "\n",
    "filename = 'day4_run2_samples9_points150.csv' # designate filename\n",
    "rawdf = pd.read_table(filename, error_bad_lines=False, delimiter = ',') #read in file\n",
    "print(rawdf)"
   ]
  },
  {
   "cell_type": "code",
   "execution_count": 38,
   "metadata": {
    "scrolled": false
   },
   "outputs": [
    {
     "name": "stdout",
     "output_type": "stream",
     "text": [
      "explained variance ratio (PCA): [  9.66271532e-01   3.37284678e-02   1.40976061e-30]\n"
     ]
    },
    {
     "data": {
      "text/plain": [
       "array([[-0.03995108, -0.04031719, -0.04031719, ..., -0.01773204,\n",
       "        -0.01773204, -0.01805406],\n",
       "       [-0.03117528, -0.03103906, -0.03103906, ...,  0.05093338,\n",
       "         0.05093338,  0.05446363],\n",
       "       [-0.0065078 , -0.98121282,  0.00774381, ...,  0.00300288,\n",
       "         0.00300288, -0.00110531]])"
      ]
     },
     "execution_count": 38,
     "metadata": {},
     "output_type": "execute_result"
    }
   ],
   "source": [
    "labels = np.array(rawdf['Hop']) #set classes as labels\n",
    "\n",
    "#df = rawdf.filter(['mq2', 'mq4', 'mq5', 'mq7'], axis=1)\n",
    "#sensordata = df.values #matrix of sensor data\n",
    "\n",
    "rawdf['mq2/mq7'] = np.divide(np.array(rawdf['MQ2']),np.array(rawdf['MQ7']))\n",
    "rawdf['mq4/mq7'] = np.divide(np.array(rawdf['MQ4']),np.array(rawdf['MQ7']))\n",
    "rawdf['mq5/mq7'] = np.divide(np.array(rawdf['MQ5']),np.array(rawdf['MQ7']))\n",
    "\n",
    "mq2 = np.array(rawdf['MQ2'])\n",
    "mq5 = np.array(rawdf['MQ5'])\n",
    "mq7 = np.array(rawdf['MQ7'])\n",
    "\n",
    "#sensordata = rawdf.filter(['mq2', 'mq4', 'mq5', 'mq7'], axis=1).values #matrix of sensor data\n",
    "#sensordata = rawdf.filter(['mq2', 'mq5', 'mq7'], axis=1).values #matrix of sensor data\n",
    "\n",
    "sensordata = [mq2, mq5, mq7]\n",
    "X = sensordata\n",
    "y = labels\n",
    "\n",
    "target_names = ['citra', 'cascade', 'centennial', 'simcoe', 'columbus', 'amarillo', \n",
    "                'liberty', 'magnum', 'willamette']\n",
    "\n",
    "pca = PCA(n_components=3)\n",
    "X_r = pca.fit(X).transform(X)\n",
    "\n",
    "# Percentage of variance explained for each component\n",
    "print('explained variance ratio (PCA): %s'\n",
    "      % str(pca.explained_variance_ratio_))\n",
    "#print('PCA log-likelihood = ' + format(pca.score(X,y)))\n",
    "'''\n",
    "plt.figure()\n",
    "colors = ['black', 'cyan', 'darkorange', 'red', 'blue', 'lightblue', 'gray', 'magenta', 'yellow']\n",
    "lw = .2\n",
    "\n",
    "for color, i, target_name in zip(colors, [1, 2, 3, 4, 5, 6, 7, 8, 9], target_names):\n",
    "    plt.scatter(X_r[y == i, 0], X_r[y == i, 1], color=color, alpha=.5, lw=lw,\n",
    "                label=target_name, s=20)\n",
    "plt.legend(loc='best', shadow=False, scatterpoints=1)\n",
    "plt.title('PCA', fontsize=15)\n",
    "plt.show()\n",
    "'''\n",
    "pca.components_"
   ]
  },
  {
   "cell_type": "code",
   "execution_count": null,
   "metadata": {
    "collapsed": true
   },
   "outputs": [],
   "source": [
    "-"
   ]
  },
  {
   "cell_type": "code",
   "execution_count": null,
   "metadata": {
    "collapsed": true
   },
   "outputs": [],
   "source": []
  },
  {
   "cell_type": "code",
   "execution_count": null,
   "metadata": {
    "collapsed": true
   },
   "outputs": [],
   "source": [
    "def make_meshgrid(x, y, h=.005):\n",
    "    x_min, x_max = x.min() - 0.01, x.max() + 0.01\n",
    "    y_min, y_max = y.min() - 0.01, y.max() + 0.01\n",
    "    xx, yy = np.meshgrid(np.arange(x_min, x_max, h),\n",
    "                         np.arange(y_min, y_max, h))\n",
    "    return xx, yy\n",
    "def plot_contoursbest(clf, xx, yy, **params):\n",
    "    Z = clf.predict(np.c_[xx.ravel(), yy.ravel()])\n",
    "    Z = Z.reshape(xx.shape)\n",
    "    out = plt.contourf(xx, yy, Z, **params)\n",
    "    return out\n",
    "\n",
    "\n",
    "bestmodel= svm.SVC(kernel='rbf', gamma=.7, C=1).fit(X, y)\n",
    "besttitle = 'SVC with RBF kernel'\n",
    "\n",
    "# Set-up 2x2 grid for plotting.\n",
    "fig, sub = plt.subplots(1, 1)\n",
    "\n",
    "X0, X1 = X[:, 0], X[:, 1]\n",
    "xx, yy = make_meshgrid(X0, X1)\n",
    "\n",
    "plot_contoursbest(bestmodel, xx, yy, cmap=plt.cm.coolwarm, alpha=0.8)\n",
    "plt.scatter(X0, X1, c=y, cmap=plt.cm.coolwarm, s=10, edgecolors='k')\n",
    "#ax.set_xlim(xx.min(), xx.max())\n",
    "#ax.set_ylim(yy.min(), yy.max())\n",
    "#    ax.set_xlabel('Sepal length')\n",
    "#    ax.set_ylabel('Sepal width')\n",
    "#ax.set_xticks(())\n",
    "#ax.set_yticks(())\n",
    "plt.title(besttitle)\n",
    "print(besttitle + ' score = ' + format(bestmodel.score(X,y)))\n",
    "plt.show()"
   ]
  },
  {
   "cell_type": "code",
   "execution_count": null,
   "metadata": {
    "collapsed": true
   },
   "outputs": [],
   "source": [
    "pca_and_classes = np.ones((len(X),len(X[0])+1)) #make new matrix with coordinates and classes for saving\n",
    "for i in range(len(pca_and_classes)):\n",
    "    pca_and_classes[i][:len(X[0])] = X[i][0:len(X[0])]\n",
    "    pca_and_classes[i][len(X[0])] = y[i]\n",
    "    \n",
    "# SAVE RESULTS TO CSV FILE\n",
    "\n",
    "savefile = \"PCA_results.csv\"\n",
    " \n",
    "#open CSV file\n",
    "with open(savefile, \"w\") as output:\n",
    "    writer = csv.writer(output, lineterminator='\\n')\n",
    "    for row in pca_and_classes:\n",
    "        writer.writerow(row)   "
   ]
  },
  {
   "cell_type": "code",
   "execution_count": null,
   "metadata": {
    "collapsed": true
   },
   "outputs": [],
   "source": [
    "from sklearn.tree import DecisionTreeClassifier\n",
    "import graphviz\n",
    "\n",
    "# identify classes and input matrix\n",
    "labels = np.array(rawdf['hop']) #set classes as labels\n",
    "#df = rawdf.drop('hop', 1) #remove class numbers from data matrix\n",
    "\n",
    "rawdf['mq2/mq7'] = np.divide(np.array(rawdf['mq2']),np.array(rawdf['mq7']))\n",
    "rawdf['mq4/mq7'] = np.divide(np.array(rawdf['mq4']),np.array(rawdf['mq7']))\n",
    "rawdf['mq5/mq7'] = np.divide(np.array(rawdf['mq5']),np.array(rawdf['mq7']))\n",
    "\n",
    "#sensordata = rawdf.filter(['mq2', 'mq4', 'mq5', 'mq7'], axis=1).values #matrix of sensor data\n",
    "sensordata = rawdf.filter(['mq2/mq7', 'mq4/mq7', 'mq5/mq7'], axis=1)#.values #matrix of sensor data\n",
    "\n",
    "sensor = list(sensordata) #list of sensor names\n",
    "\n",
    "# Use decision tree and print decision flowchart\n",
    "X = sensordata\n",
    "y = labels\n",
    "\n",
    "clf = tree.DecisionTreeClassifier(max_depth=1).fit(X, y)\n",
    "print('classification score = ' + format(round(clf.score(X,y),4)))\n",
    "\n",
    "dot_data = tree.export_graphviz(clf, out_file=None, #organize printed decision tree\n",
    "                         feature_names=sensor,  \n",
    "                         class_names=np.unique(labels.astype(str)),  \n",
    "                         filled=True, rounded=True) \n",
    "\n",
    "decisiongraph = graphviz.Source(dot_data)  \n",
    "decisiongraph\n",
    "\n"
   ]
  },
  {
   "cell_type": "code",
   "execution_count": 1,
   "metadata": {},
   "outputs": [
    {
     "ename": "NameError",
     "evalue": "name 'plt' is not defined",
     "output_type": "error",
     "traceback": [
      "\u001b[1;31m---------------------------------------------------------------------------\u001b[0m",
      "\u001b[1;31mNameError\u001b[0m                                 Traceback (most recent call last)",
      "\u001b[1;32m<ipython-input-1-0bb98502d459>\u001b[0m in \u001b[0;36m<module>\u001b[1;34m()\u001b[0m\n\u001b[1;32m----> 1\u001b[1;33m \u001b[0mplt\u001b[0m\u001b[1;33m.\u001b[0m\u001b[0mscatter\u001b[0m\u001b[1;33m(\u001b[0m\u001b[0mX_r\u001b[0m\u001b[1;33m[\u001b[0m\u001b[1;33m:\u001b[0m\u001b[1;33m,\u001b[0m\u001b[1;36m0\u001b[0m\u001b[1;33m]\u001b[0m\u001b[1;33m,\u001b[0m\u001b[0mX_r\u001b[0m\u001b[1;33m[\u001b[0m\u001b[1;33m:\u001b[0m\u001b[1;33m,\u001b[0m\u001b[1;36m1\u001b[0m\u001b[1;33m]\u001b[0m\u001b[1;33m)\u001b[0m\u001b[1;33m\u001b[0m\u001b[0m\n\u001b[0m\u001b[0;32m      2\u001b[0m \u001b[0mplt\u001b[0m\u001b[1;33m.\u001b[0m\u001b[0mshow\u001b[0m\u001b[1;33m(\u001b[0m\u001b[1;33m)\u001b[0m\u001b[1;33m\u001b[0m\u001b[0m\n",
      "\u001b[1;31mNameError\u001b[0m: name 'plt' is not defined"
     ]
    }
   ],
   "source": [
    "import\n",
    "plt.scatter(X_r[:,0],X_r[:,1])\n",
    "plt.show()"
   ]
  },
  {
   "cell_type": "code",
   "execution_count": null,
   "metadata": {
    "collapsed": true
   },
   "outputs": [],
   "source": []
  }
 ],
 "metadata": {
  "kernelspec": {
   "display_name": "Python 3",
   "language": "python",
   "name": "python3"
  },
  "language_info": {
   "codemirror_mode": {
    "name": "ipython",
    "version": 3
   },
   "file_extension": ".py",
   "mimetype": "text/x-python",
   "name": "python",
   "nbconvert_exporter": "python",
   "pygments_lexer": "ipython3",
   "version": "3.6.1"
  }
 },
 "nbformat": 4,
 "nbformat_minor": 2
}
