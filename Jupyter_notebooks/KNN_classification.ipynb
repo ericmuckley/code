{
 "cells": [
  {
   "cell_type": "code",
   "execution_count": 118,
   "metadata": {
    "scrolled": true
   },
   "outputs": [
    {
     "name": "stdout",
     "output_type": "stream",
     "text": [
      "        time    mq2    mq3    mq4    mq5    mq7  day  hop  alpha  beta\n",
      "0     1155.2  0.900  1.630  0.625  0.350  1.135    4    1   12.3   3.6\n",
      "1     1156.0  0.900  1.635  0.620  0.355  1.135    4    1   12.3   3.6\n",
      "2     1156.8  0.900  1.640  0.620  0.355  1.135    4    1   12.3   3.6\n",
      "3     1157.6  0.900  1.640  0.625  0.345  1.135    4    1   12.3   3.6\n",
      "4     1158.4  0.905  1.630  0.615  0.340  1.135    4    1   12.3   3.6\n",
      "5     1159.2  0.900  1.630  0.615  0.335  1.135    4    1   12.3   3.6\n",
      "6     1160.0  0.905  1.635  0.625  0.340  1.135    4    1   12.3   3.6\n",
      "7     1160.8  0.905  1.640  0.625  0.345  1.135    4    1   12.3   3.6\n",
      "8     1161.6  0.905  1.635  0.620  0.340  1.135    4    1   12.3   3.6\n",
      "9     1162.4  0.910  1.640  0.625  0.345  1.135    4    1   12.3   3.6\n",
      "10    1163.3  0.905  1.635  0.625  0.345  1.135    4    1   12.3   3.6\n",
      "11    1164.1  0.910  1.630  0.610  0.345  1.130    4    1   12.3   3.6\n",
      "12    1164.9  0.910  1.635  0.625  0.345  1.125    4    1   12.3   3.6\n",
      "13    1165.7  0.910  1.640  0.625  0.355  1.135    4    1   12.3   3.6\n",
      "14    1166.5  0.910  1.635  0.620  0.340  1.135    4    1   12.3   3.6\n",
      "15    1167.3  0.910  1.635  0.625  0.350  1.135    4    1   12.3   3.6\n",
      "16    1168.1  0.910  1.635  0.630  0.350  1.135    4    1   12.3   3.6\n",
      "17    1168.9  0.910  1.630  0.620  0.350  1.135    4    1   12.3   3.6\n",
      "18    1169.7  0.910  1.640  0.625  0.350  1.135    4    1   12.3   3.6\n",
      "19    1170.5  0.910  1.635  0.625  0.350  1.135    4    1   12.3   3.6\n",
      "20    1171.3  0.910  1.635  0.620  0.355  1.130    4    1   12.3   3.6\n",
      "21    1172.1  0.910  1.635  0.625  0.355  1.130    4    1   12.3   3.6\n",
      "22    1172.9  0.910  1.635  0.625  0.350  1.135    4    1   12.3   3.6\n",
      "23    1173.7  0.910  1.635  0.630  0.350  1.135    4    1   12.3   3.6\n",
      "24    1174.5  0.910  1.635  0.625  0.350  1.135    4    1   12.3   3.6\n",
      "25    1175.4  0.910  1.640  0.625  0.345  1.135    4    1   12.3   3.6\n",
      "26    1176.2  0.910  1.635  0.630  0.350  1.140    4    1   12.3   3.6\n",
      "27    1177.0  0.910  1.635  0.625  0.350  1.135    4    1   12.3   3.6\n",
      "28    1177.8  0.910  1.645  0.625  0.350  1.135    4    1   12.3   3.6\n",
      "29    1178.6  0.910  1.640  0.630  0.345  1.135    4    1   12.3   3.6\n",
      "...      ...    ...    ...    ...    ...    ...  ...  ...    ...   ...\n",
      "1320  1267.3  0.670  0.985  0.415  0.305  0.520    4    9    4.8   4.0\n",
      "1321  1268.1  0.670  0.985  0.410  0.300  0.520    4    9    4.8   4.0\n",
      "1322  1269.0  0.670  0.985  0.420  0.300  0.520    4    9    4.8   4.0\n",
      "1323  1269.8  0.670  0.985  0.425  0.300  0.525    4    9    4.8   4.0\n",
      "1324  1270.6  0.670  0.985  0.420  0.300  0.530    4    9    4.8   4.0\n",
      "1325  1271.4  0.670  0.985  0.415  0.300  0.525    4    9    4.8   4.0\n",
      "1326  1272.2  0.670  0.980  0.415  0.295  0.525    4    9    4.8   4.0\n",
      "1327  1273.0  0.670  0.985  0.420  0.305  0.530    4    9    4.8   4.0\n",
      "1328  1273.8  0.670  0.985  0.420  0.300  0.525    4    9    4.8   4.0\n",
      "1329  1274.6  0.670  0.985  0.420  0.305  0.530    4    9    4.8   4.0\n",
      "1330  1275.4  0.670  0.985  0.415  0.305  0.525    4    9    4.8   4.0\n",
      "1331  1276.2  0.670  0.985  0.420  0.305  0.530    4    9    4.8   4.0\n",
      "1332  1277.0  0.670  0.980  0.415  0.305  0.525    4    9    4.8   4.0\n",
      "1333  1277.8  0.670  0.985  0.420  0.305  0.530    4    9    4.8   4.0\n",
      "1334  1278.6  0.670  0.985  0.425  0.300  0.530    4    9    4.8   4.0\n",
      "1335  1279.4  0.670  0.985  0.425  0.305  0.530    4    9    4.8   4.0\n",
      "1336  1280.2  0.670  0.985  0.415  0.305  0.530    4    9    4.8   4.0\n",
      "1337  1281.1  0.670  0.985  0.425  0.300  0.530    4    9    4.8   4.0\n",
      "1338  1281.9  0.670  0.980  0.420  0.305  0.530    4    9    4.8   4.0\n",
      "1339  1282.7  0.670  0.985  0.425  0.305  0.525    4    9    4.8   4.0\n",
      "1340  1283.5  0.670  0.985  0.420  0.305  0.535    4    9    4.8   4.0\n",
      "1341  1284.3  0.670  0.985  0.425  0.305  0.530    4    9    4.8   4.0\n",
      "1342  1285.1  0.670  0.985  0.420  0.305  0.525    4    9    4.8   4.0\n",
      "1343  1285.9  0.670  0.985  0.420  0.300  0.530    4    9    4.8   4.0\n",
      "1344  1286.7  0.670  0.985  0.420  0.305  0.530    4    9    4.8   4.0\n",
      "1345  1287.5  0.670  0.985  0.430  0.300  0.530    4    9    4.8   4.0\n",
      "1346  1288.3  0.670  0.980  0.420  0.305  0.525    4    9    4.8   4.0\n",
      "1347  1289.1  0.675  0.980  0.415  0.305  0.530    4    9    4.8   4.0\n",
      "1348  1289.9  0.675  0.980  0.420  0.305  0.525    4    9    4.8   4.0\n",
      "1349  1290.7  0.680  0.985  0.425  0.310  0.530    4    9    4.8   4.0\n",
      "\n",
      "[1350 rows x 10 columns]\n"
     ]
    }
   ],
   "source": [
    "import numpy as np; import pandas as pd\n",
    "import matplotlib.pyplot as plt\n",
    "from matplotlib.colors import ListedColormap\n",
    "from sklearn import clone\n",
    "from sklearn.datasets import load_iris\n",
    "from sklearn.ensemble import (RandomForestClassifier, ExtraTreesClassifier, AdaBoostClassifier)\n",
    "from sklearn.tree import DecisionTreeClassifier\n",
    "from sklearn import neighbors\n",
    "import time\n",
    "\n",
    "plt.rcParams['xtick.labelsize'] = 15; plt.rcParams['ytick.labelsize'] = 15 #make size of axis tick labels larger\n",
    "\n",
    "filename = 'freshest_hops.csv' # designate filename\n",
    "rawdf = pd.read_table(filename, error_bad_lines=False, delimiter = ',') #read in file\n",
    "print(rawdf)"
   ]
  },
  {
   "cell_type": "code",
   "execution_count": 125,
   "metadata": {
    "scrolled": true
   },
   "outputs": [
    {
     "ename": "NameError",
     "evalue": "name 'Pastel1' is not defined",
     "output_type": "error",
     "traceback": [
      "\u001b[1;31m---------------------------------------------------------------------------\u001b[0m",
      "\u001b[1;31mNameError\u001b[0m                                 Traceback (most recent call last)",
      "\u001b[1;32m<ipython-input-125-a1f96b0aaeaa>\u001b[0m in \u001b[0;36m<module>\u001b[1;34m()\u001b[0m\n\u001b[0;32m     14\u001b[0m \u001b[1;33m\u001b[0m\u001b[0m\n\u001b[0;32m     15\u001b[0m \u001b[1;31m# Create color maps\u001b[0m\u001b[1;33m\u001b[0m\u001b[1;33m\u001b[0m\u001b[0m\n\u001b[1;32m---> 16\u001b[1;33m \u001b[0mcmap_light\u001b[0m \u001b[1;33m=\u001b[0m \u001b[0mPastel1\u001b[0m\u001b[1;31m#ListedColormap(['#FFAAAA', '#AAFFAA', '#AAAAFF'])\u001b[0m\u001b[1;33m\u001b[0m\u001b[0m\n\u001b[0m\u001b[0;32m     17\u001b[0m \u001b[0mcmap_bold\u001b[0m \u001b[1;33m=\u001b[0m \u001b[0mListedColormap\u001b[0m\u001b[1;33m(\u001b[0m\u001b[1;33m[\u001b[0m\u001b[1;34m'#FF0000'\u001b[0m\u001b[1;33m,\u001b[0m \u001b[1;34m'#00FF00'\u001b[0m\u001b[1;33m,\u001b[0m \u001b[1;34m'#0000FF'\u001b[0m\u001b[1;33m]\u001b[0m\u001b[1;33m)\u001b[0m\u001b[1;33m\u001b[0m\u001b[0m\n\u001b[0;32m     18\u001b[0m \u001b[1;33m\u001b[0m\u001b[0m\n",
      "\u001b[1;31mNameError\u001b[0m: name 'Pastel1' is not defined"
     ]
    }
   ],
   "source": [
    "# identify classes and input matrix\n",
    "labels = np.array(rawdf['hop']) #set classes as labels\n",
    "#df = rawdf.drop('hop', 1) #remove class numbers from data matrix\n",
    "\n",
    "df = rawdf.filter(['mq2', 'mq4'], axis=1)\n",
    "sensordata = df.values #matrix of sensor data\n",
    "\n",
    "#set K values to scan through\n",
    "neighbor_try = np.arange(1,250)\n",
    "h = .01  # step size in the mesh\n",
    "\n",
    "X = sensordata\n",
    "y = labels\n",
    "\n",
    "# Create color maps\n",
    "cmap_light = Pastel1#ListedColormap(['#FFAAAA', '#AAFFAA', '#AAAAFF'])\n",
    "cmap_bold = ListedColormap(['#FF0000', '#00FF00', '#0000FF'])\n",
    "\n",
    "run_time = np.array([])\n",
    "score_list = np.array([])\n",
    "for k in neighbor_try:\n",
    "    clf = neighbors.KNeighborsClassifier(n_neighbors=k) #weights='distance'\n",
    "    \n",
    "    start_time = time.time()\n",
    "    \n",
    "    clf.fit(X, y)\n",
    "\n",
    "    # Plot the decision boundary. For that, we will assign a color to each\n",
    "    # point in the mesh [x_min, x_max]x[y_min, y_max].\n",
    "    x_min, x_max = X[:, 0].min() - .01, X[:, 0].max() + .01\n",
    "    y_min, y_max = X[:, 1].min() - .01, X[:, 1].max() + .01\n",
    "    xx, yy = np.meshgrid(np.arange(x_min, x_max, h),\n",
    "                         np.arange(y_min, y_max, h))\n",
    "    Z = clf.predict(np.c_[xx.ravel(), yy.ravel()])\n",
    "    score_list = np.append(score_list,clf.score(X,y))\n",
    "    \n",
    "    run_time = np.append(run_time, time.time() - start_time)\n",
    "    \n",
    "    # Put the result into a color plot\n",
    "    Z = Z.reshape(xx.shape)\n",
    "    #plt.figure()\n",
    "    plt.pcolormesh(xx, yy, Z, cmap=cmap_light)\n",
    "\n",
    "    # Plot also the training points\n",
    "    plt.scatter(X[:, 0], X[:, 1], c=y, cmap=cmap_bold,\n",
    "                edgecolor='k', s=20)\n",
    "    plt.xlim(xx.min(), xx.max())\n",
    "    plt.ylim(yy.min(), yy.max())\n",
    "    \n",
    "    print('k = ' + format(k) + '. score = ' + format(clf.score(X,y)*100) + '%')\n",
    "plt.show()\n",
    "\n",
    "plt.plot(neighbor_try, score_list*100)\n",
    "plt.xlabel('Nearest neighbors', fontsize=15)\n",
    "plt.ylabel('Classification accuracy (%)', fontsize=15)\n",
    "plt.show()\n",
    "\n",
    "plt.plot(neighbor_try, run_time)\n",
    "plt.xlabel('Nearest neighbors', fontsize=15)\n",
    "plt.ylabel('Run time (s)', fontsize=15)\n",
    "plt.show()\n"
   ]
  },
  {
   "cell_type": "code",
   "execution_count": 109,
   "metadata": {},
   "outputs": [
    {
     "data": {
      "text/plain": [
       "(1350,)"
      ]
     },
     "execution_count": 109,
     "metadata": {},
     "output_type": "execute_result"
    }
   ],
   "source": [
    "np.shape(y)"
   ]
  },
  {
   "cell_type": "code",
   "execution_count": 110,
   "metadata": {},
   "outputs": [
    {
     "data": {
      "text/plain": [
       "(1350, 3)"
      ]
     },
     "execution_count": 110,
     "metadata": {},
     "output_type": "execute_result"
    }
   ],
   "source": [
    "np.shape(X)"
   ]
  },
  {
   "cell_type": "code",
   "execution_count": null,
   "metadata": {
    "collapsed": true
   },
   "outputs": [],
   "source": []
  }
 ],
 "metadata": {
  "kernelspec": {
   "display_name": "Python 3",
   "language": "python",
   "name": "python3"
  },
  "language_info": {
   "codemirror_mode": {
    "name": "ipython",
    "version": 3
   },
   "file_extension": ".py",
   "mimetype": "text/x-python",
   "name": "python",
   "nbconvert_exporter": "python",
   "pygments_lexer": "ipython3",
   "version": "3.6.1"
  }
 },
 "nbformat": 4,
 "nbformat_minor": 2
}
