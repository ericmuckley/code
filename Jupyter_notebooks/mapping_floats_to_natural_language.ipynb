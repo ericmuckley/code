{
 "cells": [
  {
   "cell_type": "code",
   "execution_count": 107,
   "metadata": {
    "collapsed": true
   },
   "outputs": [],
   "source": [
    "import random\n",
    "import numpy as np\n",
    "from sklearn import linear_model\n",
    "\n",
    "classes = ['sweet', 'sour', 'bitter', 'piney', 'citrusy', 'skunky', 'earthy']\n",
    "\n",
    "# generate fake input data\n",
    "inputmatrix = np.random.random((30,5)) #input matrix with 5 inputs, 30 samples\n",
    "\n",
    "targets = [] #make list of target classess\n",
    "for i in range(len(inputmatrix)): targets.append(random.choice(classes))"
   ]
  },
  {
   "cell_type": "code",
   "execution_count": null,
   "metadata": {
    "collapsed": true
   },
   "outputs": [],
   "source": []
  },
  {
   "cell_type": "code",
   "execution_count": 108,
   "metadata": {},
   "outputs": [
    {
     "name": "stdout",
     "output_type": "stream",
     "text": [
      "54.0% = bitter\n",
      "0.0% = citrusy\n",
      "8.0% = earthy\n",
      "30.0% = piney\n",
      "0.0% = skunky\n",
      "7.000000000000001% = sour\n",
      "0.0% = sweet\n"
     ]
    }
   ],
   "source": [
    "# perform regression\n",
    "logreg = linear_model.LogisticRegression(C=1e5) #specify regression parameters\n",
    "\n",
    "X = inputmatrix #specify inputs and targets\n",
    "y = targets\n",
    "\n",
    "logreg.fit(X,y) #run regression\n",
    "\n",
    "logreg.classes_ #summon the class names\n",
    "\n",
    "testvector = [inputmatrix[3]] #select new data for testing\n",
    "\n",
    "prediction = logreg.predict_proba(testvector) #assign score to each class\n",
    "prediction = np.reshape(prediction,(len(logreg.classes_,))) #reshape to match class vector shape\n",
    "prediction = np.round(prediction,2)*100 #convert to %\n",
    "\n",
    "result = np.stack((prediction, logreg.classes_)).T #attach flavors to results of prediction\n",
    "\n",
    "for i in range(len(prediction)):\n",
    "    print(format(prediction[i]) + '% = ' + format(logreg.classes_[i]))"
   ]
  },
  {
   "cell_type": "code",
   "execution_count": 110,
   "metadata": {},
   "outputs": [
    {
     "data": {
      "text/plain": [
       "['bitter',\n",
       " 'piney',\n",
       " 'sour',\n",
       " 'bitter',\n",
       " 'piney',\n",
       " 'skunky',\n",
       " 'earthy',\n",
       " 'earthy',\n",
       " 'sour',\n",
       " 'sweet',\n",
       " 'sour',\n",
       " 'piney',\n",
       " 'sour',\n",
       " 'citrusy',\n",
       " 'skunky',\n",
       " 'earthy',\n",
       " 'piney',\n",
       " 'piney',\n",
       " 'citrusy',\n",
       " 'sweet',\n",
       " 'earthy',\n",
       " 'skunky',\n",
       " 'piney',\n",
       " 'citrusy',\n",
       " 'sweet',\n",
       " 'citrusy',\n",
       " 'sour',\n",
       " 'skunky',\n",
       " 'piney',\n",
       " 'sweet']"
      ]
     },
     "execution_count": 110,
     "metadata": {},
     "output_type": "execute_result"
    }
   ],
   "source": [
    "y"
   ]
  },
  {
   "cell_type": "code",
   "execution_count": 76,
   "metadata": {},
   "outputs": [
    {
     "name": "stdout",
     "output_type": "stream",
     "text": [
      "Once deleted, variables cannot be recovered. Proceed (y/[n])? y\n"
     ]
    }
   ],
   "source": [
    "reset"
   ]
  },
  {
   "cell_type": "code",
   "execution_count": 104,
   "metadata": {},
   "outputs": [
    {
     "name": "stdout",
     "output_type": "stream",
     "text": [
      "1\n"
     ]
    },
    {
     "ename": "TypeError",
     "evalue": "list indices must be integers or slices, not tuple",
     "output_type": "error",
     "traceback": [
      "\u001b[1;31m---------------------------------------------------------------------------\u001b[0m",
      "\u001b[1;31mTypeError\u001b[0m                                 Traceback (most recent call last)",
      "\u001b[1;32m<ipython-input-104-625d9c38edd1>\u001b[0m in \u001b[0;36m<module>\u001b[1;34m()\u001b[0m\n\u001b[0;32m     18\u001b[0m \u001b[1;32mfor\u001b[0m \u001b[0mi\u001b[0m \u001b[1;32min\u001b[0m \u001b[0mrange\u001b[0m\u001b[1;33m(\u001b[0m\u001b[0mlen\u001b[0m\u001b[1;33m(\u001b[0m\u001b[0msamplenum\u001b[0m\u001b[1;33m)\u001b[0m\u001b[1;33m)\u001b[0m\u001b[1;33m:\u001b[0m\u001b[1;33m\u001b[0m\u001b[0m\n\u001b[0;32m     19\u001b[0m     \u001b[0mprint\u001b[0m\u001b[1;33m(\u001b[0m\u001b[0msamplenum\u001b[0m\u001b[1;33m[\u001b[0m\u001b[0mi\u001b[0m\u001b[1;33m]\u001b[0m\u001b[1;33m)\u001b[0m\u001b[1;33m\u001b[0m\u001b[0m\n\u001b[1;32m---> 20\u001b[1;33m     \u001b[1;32mif\u001b[0m \u001b[0msamplenum\u001b[0m\u001b[1;33m[\u001b[0m\u001b[0mi\u001b[0m\u001b[1;33m]\u001b[0m \u001b[1;33m==\u001b[0m \u001b[0mint\u001b[0m\u001b[1;33m(\u001b[0m\u001b[1;36m1\u001b[0m\u001b[1;33m)\u001b[0m\u001b[1;33m:\u001b[0m \u001b[0mdescriptors\u001b[0m\u001b[1;33m.\u001b[0m\u001b[0mappend\u001b[0m\u001b[1;33m(\u001b[0m\u001b[0mclasses\u001b[0m\u001b[1;33m[\u001b[0m\u001b[1;36m0\u001b[0m\u001b[1;33m,\u001b[0m\u001b[1;36m1\u001b[0m\u001b[1;33m,\u001b[0m\u001b[1;36m2\u001b[0m\u001b[1;33m,\u001b[0m\u001b[1;36m3\u001b[0m\u001b[1;33m,\u001b[0m\u001b[1;36m4\u001b[0m\u001b[1;33m]\u001b[0m\u001b[1;33m)\u001b[0m\u001b[1;33m\u001b[0m\u001b[0m\n\u001b[0m\u001b[0;32m     21\u001b[0m     \u001b[1;32melif\u001b[0m \u001b[0msamplenum\u001b[0m\u001b[1;33m[\u001b[0m\u001b[0mi\u001b[0m\u001b[1;33m]\u001b[0m \u001b[1;33m==\u001b[0m \u001b[0mint\u001b[0m\u001b[1;33m(\u001b[0m\u001b[1;36m2\u001b[0m\u001b[1;33m)\u001b[0m\u001b[1;33m:\u001b[0m \u001b[0mdescriptors\u001b[0m\u001b[1;33m.\u001b[0m\u001b[0mappend\u001b[0m\u001b[1;33m(\u001b[0m\u001b[0mclasses\u001b[0m\u001b[1;33m[\u001b[0m\u001b[1;36m2\u001b[0m\u001b[1;33m,\u001b[0m\u001b[1;36m4\u001b[0m\u001b[1;33m,\u001b[0m\u001b[1;36m5\u001b[0m\u001b[1;33m,\u001b[0m\u001b[1;36m4\u001b[0m\u001b[1;33m,\u001b[0m\u001b[1;36m1\u001b[0m\u001b[1;33m]\u001b[0m\u001b[1;33m)\u001b[0m\u001b[1;33m\u001b[0m\u001b[0m\n\u001b[0;32m     22\u001b[0m     \u001b[1;32melif\u001b[0m \u001b[0msamplenum\u001b[0m\u001b[1;33m[\u001b[0m\u001b[0mi\u001b[0m\u001b[1;33m]\u001b[0m \u001b[1;33m==\u001b[0m \u001b[0mint\u001b[0m\u001b[1;33m(\u001b[0m\u001b[1;36m3\u001b[0m\u001b[1;33m)\u001b[0m\u001b[1;33m:\u001b[0m \u001b[0mdescriptors\u001b[0m\u001b[1;33m.\u001b[0m\u001b[0mappend\u001b[0m\u001b[1;33m(\u001b[0m\u001b[0mclasses\u001b[0m\u001b[1;33m[\u001b[0m\u001b[1;36m2\u001b[0m\u001b[1;33m,\u001b[0m\u001b[1;36m3\u001b[0m\u001b[1;33m,\u001b[0m\u001b[1;36m5\u001b[0m\u001b[1;33m,\u001b[0m\u001b[1;36m4\u001b[0m\u001b[1;33m,\u001b[0m\u001b[1;36m1\u001b[0m\u001b[1;33m]\u001b[0m\u001b[1;33m)\u001b[0m\u001b[1;33m\u001b[0m\u001b[0m\n",
      "\u001b[1;31mTypeError\u001b[0m: list indices must be integers or slices, not tuple"
     ]
    }
   ],
   "source": [
    "# Try using multiple flavors per line and creating permutations of them\n",
    "\n",
    "import random\n",
    "import numpy as np\n",
    "from sklearn import linear_model\n",
    "\n",
    "classes = ['sweet', 'sour', 'bitter', 'piney', 'citrusy', \n",
    "           'skunky', 'earthy', 'crisp']\n",
    "nums = np.array([1,2,3,4,5,6]).astype(int)\n",
    "\n",
    "# generate fake input data\n",
    "inputmatrix = np.random.random((30,5)) #input matrix with 5 inputs, 30 samples\n",
    "samplenum = np.array([])\n",
    "for i in range(len(inputmatrix)):\n",
    "    samplenum = np.append(samplenum, random.choice(nums)).astype(int)\n",
    "\n",
    "\n",
    "descriptors = []\n",
    "for i in range(len(samplenum)):\n",
    "    print(samplenum[i])\n",
    "    if samplenum[i] == int(1): descriptors.append(classes[0])\n",
    "    elif samplenum[i] == int(2): descriptors.append(classes[2,7,5,4,1])\n",
    "    elif samplenum[i] == int(3): descriptors.append(classes[2,3,5,7,1])\n",
    "    elif samplenum[i] == int(4): descriptors.append(classes[2,6,5,0,1])   \n",
    "    elif samplenum[i] == int(5): descriptors.append(classes[2,7,0,3,1])\n",
    "    elif samplenum[i] == int(6): descriptors.append(classes[2,3,5,6,0])\n",
    "        \n",
    "        \n",
    "#targets = [[random.choice(classes), random.choice(classes), random.choice(classes)] for i in range(len(inputmatrix))]\n"
   ]
  },
  {
   "cell_type": "code",
   "execution_count": 103,
   "metadata": {},
   "outputs": [
    {
     "data": {
      "text/plain": [
       "numpy.int32"
      ]
     },
     "execution_count": 103,
     "metadata": {},
     "output_type": "execute_result"
    }
   ],
   "source": [
    "type(samplenum[3])"
   ]
  },
  {
   "cell_type": "code",
   "execution_count": 92,
   "metadata": {
    "scrolled": false
   },
   "outputs": [
    {
     "ename": "TypeError",
     "evalue": "len() of unsized object",
     "output_type": "error",
     "traceback": [
      "\u001b[1;31m---------------------------------------------------------------------------\u001b[0m",
      "\u001b[1;31mTypeError\u001b[0m                                 Traceback (most recent call last)",
      "\u001b[1;32m<ipython-input-92-73f3b12c6582>\u001b[0m in \u001b[0;36m<module>\u001b[1;34m()\u001b[0m\n\u001b[1;32m----> 1\u001b[1;33m \u001b[0mlen\u001b[0m\u001b[1;33m(\u001b[0m\u001b[0msamplenum\u001b[0m\u001b[1;33m)\u001b[0m\u001b[1;33m\u001b[0m\u001b[0m\n\u001b[0m",
      "\u001b[1;31mTypeError\u001b[0m: len() of unsized object"
     ]
    }
   ],
   "source": [
    "len(samplenum)"
   ]
  },
  {
   "cell_type": "code",
   "execution_count": null,
   "metadata": {
    "collapsed": true
   },
   "outputs": [],
   "source": []
  }
 ],
 "metadata": {
  "kernelspec": {
   "display_name": "Python 3",
   "language": "python",
   "name": "python3"
  },
  "language_info": {
   "codemirror_mode": {
    "name": "ipython",
    "version": 3
   },
   "file_extension": ".py",
   "mimetype": "text/x-python",
   "name": "python",
   "nbconvert_exporter": "python",
   "pygments_lexer": "ipython3",
   "version": "3.6.1"
  }
 },
 "nbformat": 4,
 "nbformat_minor": 2
}
